{
 "cells": [
  {
   "attachments": {},
   "cell_type": "markdown",
   "metadata": {},
   "source": [
    "Converting all of the code in the python file to a Jupyter notebook."
   ]
  },
  {
   "attachments": {},
   "cell_type": "markdown",
   "metadata": {},
   "source": [
    "As I am coming back to it I see some problems that need solving. \n",
    "\n",
    "The goal of this script:\n",
    " - Take a number from user input\n",
    " - take user's number and create that many random numbers with range\n",
    "    > range needs to be reverse engineered manually from finding the min and max of HT articles on apple\n",
    " - exclude the numbers that are already present in csv file\n",
    "    > possible way to do this: https://stackoverflow.com/questions/42999093/generate-random-number-in-range-excluding-some-numbers\n",
    " - with this list of numbers, create links\n",
    " - scrape these links for article name, description, and last modified date\n",
    " - add this content to csv file"
   ]
  },
  {
   "cell_type": "code",
   "execution_count": 1,
   "metadata": {},
   "outputs": [],
   "source": [
    "import requests\n",
    "import pandas as pd\n",
    "import html_file  # for testing\n",
    "from bs4 import BeautifulSoup as bs\n",
    "from time import sleep\n",
    "from random import randint\n",
    "from datetime import date"
   ]
  },
  {
   "attachments": {},
   "cell_type": "markdown",
   "metadata": {},
   "source": [
    "This class takes an int and adds it to 200000 (which is the min article number)"
   ]
  },
  {
   "cell_type": "code",
   "execution_count": 21,
   "metadata": {},
   "outputs": [],
   "source": [
    "class Webpage:\n",
    "\n",
    "    def __init__(self,num):\n",
    "        self.num = num\n",
    "        self.url_main = 'https://support.apple.com/en-us/HT'\n",
    "        self.url_num_base = 200000\n",
    "        self.headers = {\n",
    "            'accept': 'text/html,application/xhtml+xml,application/xml;q=0.9,*/*;q=0.8',\n",
    "            'accept-encoding': 'gzip, deflate, br',\n",
    "            'accept-language': 'en-us',\n",
    "            'user-agent': 'Mozilla/5.0 (Macintosh; Intel Mac OS X 10_15_4) AppleWebKit/605.1.15 (KHTML, like Gecko) Version/13.1 Safari/605.1.15'}\n",
    "        self.url_complete = str(self.url_main + str(self.url_num_base + self.num))\n",
    "\n",
    "    def get_html(self):\n",
    "        try:\n",
    "            r = requests.get(self.url_complete, headers=self.headers)\n",
    "            if r.status_code == 200:\n",
    "                html = r.text\n",
    "                r.close\n",
    "                return html\n",
    "            else:\n",
    "                html = self.url_complete\n",
    "                r.close\n",
    "                return html\n",
    "        except requests.exceptions.RequestException as e:\n",
    "            raise SystemExit(e)\n",
    "\n",
    "    def create_soup(self):\n",
    "        html = self.get_html()\n",
    "        if html == self.url_complete:\n",
    "            soup = self.url_complete\n",
    "        else:\n",
    "            soup = bs(html, features=\"html.parser\")\n",
    "        return soup\n",
    "\n",
    "    def get_info(self):\n",
    "        \"\"\"Gets url, title, description, and other information\"\"\"\n",
    "        soup = self.create_soup()\n",
    "        try:\n",
    "            info_url = soup.head.find(attrs={\"rel\": \"canonical\"})['href']\n",
    "            info_title = soup.title.text\n",
    "            info_description = soup.find(attrs={\"name\": \"description\"})['content'].replace('\\n','')\n",
    "            info_last_modified_date = soup.find(attrs={\"class\": \"mod-date\"}).time['datetime']\n",
    "\n",
    "            doc_info = [info_url, info_title, info_description, info_last_modified_date]\n",
    "\n",
    "        except AttributeError as e:\n",
    "            doc_info = [soup, 'Non 200 Status Code']\n",
    "        return doc_info\n"
   ]
  },
  {
   "cell_type": "code",
   "execution_count": 23,
   "metadata": {},
   "outputs": [
    {
     "name": "stdout",
     "output_type": "stream",
     "text": [
      "https://support.apple.com/en-us/HT203122\n",
      "['https://support.apple.com/en-us/HT203122', 'If you see the Restore screen on your iPhone, iPad, or iPod touch - Apple Support', 'If you see the\\xa0Restore screen on\\xa0your iPhone, iPad, or iPod touch, learn what to do.', '2021-09-23']\n"
     ]
    }
   ],
   "source": [
    "testing = Webpage(3122)\n",
    "print(testing.url_complete)\n",
    "\n",
    "print(testing.get_info())"
   ]
  },
  {
   "attachments": {},
   "cell_type": "markdown",
   "metadata": {},
   "source": [
    "This test looks to have some funny escape characters in it.  will have to clean this up, but later!"
   ]
  }
 ],
 "metadata": {
  "kernelspec": {
   "display_name": "base",
   "language": "python",
   "name": "python3"
  },
  "language_info": {
   "codemirror_mode": {
    "name": "ipython",
    "version": 3
   },
   "file_extension": ".py",
   "mimetype": "text/x-python",
   "name": "python",
   "nbconvert_exporter": "python",
   "pygments_lexer": "ipython3",
   "version": "3.9.7"
  },
  "orig_nbformat": 4,
  "vscode": {
   "interpreter": {
    "hash": "40d3a090f54c6569ab1632332b64b2c03c39dcf918b08424e98f38b5ae0af88f"
   }
  }
 },
 "nbformat": 4,
 "nbformat_minor": 2
}
